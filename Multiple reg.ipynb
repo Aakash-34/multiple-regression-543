{
 "cells": [
  {
   "cell_type": "code",
   "execution_count": 70,
   "id": "d83152b2",
   "metadata": {},
   "outputs": [],
   "source": [
    "import pandas as pd"
   ]
  },
  {
   "cell_type": "code",
   "execution_count": 71,
   "id": "9753ca77",
   "metadata": {},
   "outputs": [],
   "source": [
    "data = pd.read_excel(r'C:\\Users\\Akash Sharma\\Downloads\\Life Expectancy 2015 World Data.xlsx')"
   ]
  },
  {
   "cell_type": "code",
   "execution_count": 72,
   "id": "cd73c125",
   "metadata": {},
   "outputs": [
    {
     "data": {
      "text/html": [
       "<div>\n",
       "<style scoped>\n",
       "    .dataframe tbody tr th:only-of-type {\n",
       "        vertical-align: middle;\n",
       "    }\n",
       "\n",
       "    .dataframe tbody tr th {\n",
       "        vertical-align: top;\n",
       "    }\n",
       "\n",
       "    .dataframe thead th {\n",
       "        text-align: right;\n",
       "    }\n",
       "</style>\n",
       "<table border=\"1\" class=\"dataframe\">\n",
       "  <thead>\n",
       "    <tr style=\"text-align: right;\">\n",
       "      <th></th>\n",
       "      <th>Country</th>\n",
       "      <th>Year</th>\n",
       "      <th>Developed</th>\n",
       "      <th>Life expectancy</th>\n",
       "      <th>infant deaths</th>\n",
       "      <th>Hepatitis B</th>\n",
       "      <th>Measles</th>\n",
       "      <th>BMI</th>\n",
       "      <th>under-five deaths</th>\n",
       "      <th>Polio</th>\n",
       "      <th>Diphtheria</th>\n",
       "      <th>HIV/AIDS</th>\n",
       "      <th>GDP</th>\n",
       "      <th>Population</th>\n",
       "    </tr>\n",
       "  </thead>\n",
       "  <tbody>\n",
       "    <tr>\n",
       "      <th>0</th>\n",
       "      <td>Afghanistan</td>\n",
       "      <td>2015</td>\n",
       "      <td>0</td>\n",
       "      <td>65.0</td>\n",
       "      <td>62</td>\n",
       "      <td>65</td>\n",
       "      <td>1154</td>\n",
       "      <td>19.1</td>\n",
       "      <td>83</td>\n",
       "      <td>6</td>\n",
       "      <td>65</td>\n",
       "      <td>0.1</td>\n",
       "      <td>584.259210</td>\n",
       "      <td>33736494.0</td>\n",
       "    </tr>\n",
       "    <tr>\n",
       "      <th>1</th>\n",
       "      <td>Albania</td>\n",
       "      <td>2015</td>\n",
       "      <td>0</td>\n",
       "      <td>77.8</td>\n",
       "      <td>0</td>\n",
       "      <td>99</td>\n",
       "      <td>0</td>\n",
       "      <td>58.0</td>\n",
       "      <td>0</td>\n",
       "      <td>99</td>\n",
       "      <td>99</td>\n",
       "      <td>0.1</td>\n",
       "      <td>3954.227830</td>\n",
       "      <td>28873.0</td>\n",
       "    </tr>\n",
       "    <tr>\n",
       "      <th>2</th>\n",
       "      <td>Algeria</td>\n",
       "      <td>2015</td>\n",
       "      <td>0</td>\n",
       "      <td>75.6</td>\n",
       "      <td>21</td>\n",
       "      <td>95</td>\n",
       "      <td>63</td>\n",
       "      <td>59.5</td>\n",
       "      <td>24</td>\n",
       "      <td>95</td>\n",
       "      <td>95</td>\n",
       "      <td>0.1</td>\n",
       "      <td>4132.762920</td>\n",
       "      <td>39871528.0</td>\n",
       "    </tr>\n",
       "    <tr>\n",
       "      <th>3</th>\n",
       "      <td>Angola</td>\n",
       "      <td>2015</td>\n",
       "      <td>0</td>\n",
       "      <td>52.4</td>\n",
       "      <td>66</td>\n",
       "      <td>64</td>\n",
       "      <td>118</td>\n",
       "      <td>23.3</td>\n",
       "      <td>98</td>\n",
       "      <td>7</td>\n",
       "      <td>64</td>\n",
       "      <td>1.9</td>\n",
       "      <td>3695.793748</td>\n",
       "      <td>2785935.0</td>\n",
       "    </tr>\n",
       "    <tr>\n",
       "      <th>4</th>\n",
       "      <td>Argentina</td>\n",
       "      <td>2015</td>\n",
       "      <td>0</td>\n",
       "      <td>76.3</td>\n",
       "      <td>8</td>\n",
       "      <td>94</td>\n",
       "      <td>0</td>\n",
       "      <td>62.8</td>\n",
       "      <td>9</td>\n",
       "      <td>93</td>\n",
       "      <td>94</td>\n",
       "      <td>0.1</td>\n",
       "      <td>13467.123600</td>\n",
       "      <td>43417765.0</td>\n",
       "    </tr>\n",
       "  </tbody>\n",
       "</table>\n",
       "</div>"
      ],
      "text/plain": [
       "       Country  Year  Developed  Life expectancy   infant deaths  Hepatitis B  \\\n",
       "0  Afghanistan  2015          0              65.0             62           65   \n",
       "1      Albania  2015          0              77.8              0           99   \n",
       "2      Algeria  2015          0              75.6             21           95   \n",
       "3       Angola  2015          0              52.4             66           64   \n",
       "4    Argentina  2015          0              76.3              8           94   \n",
       "\n",
       "   Measles    BMI  under-five deaths   Polio  Diphtheria    HIV/AIDS  \\\n",
       "0      1154  19.1                  83      6           65        0.1   \n",
       "1         0  58.0                   0     99           99        0.1   \n",
       "2        63  59.5                  24     95           95        0.1   \n",
       "3       118  23.3                  98      7           64        1.9   \n",
       "4         0  62.8                   9     93           94        0.1   \n",
       "\n",
       "            GDP  Population  \n",
       "0    584.259210  33736494.0  \n",
       "1   3954.227830     28873.0  \n",
       "2   4132.762920  39871528.0  \n",
       "3   3695.793748   2785935.0  \n",
       "4  13467.123600  43417765.0  "
      ]
     },
     "execution_count": 72,
     "metadata": {},
     "output_type": "execute_result"
    }
   ],
   "source": [
    "data.head()"
   ]
  },
  {
   "cell_type": "code",
   "execution_count": 73,
   "id": "dc414fb1",
   "metadata": {},
   "outputs": [
    {
     "data": {
      "text/html": [
       "<div>\n",
       "<style scoped>\n",
       "    .dataframe tbody tr th:only-of-type {\n",
       "        vertical-align: middle;\n",
       "    }\n",
       "\n",
       "    .dataframe tbody tr th {\n",
       "        vertical-align: top;\n",
       "    }\n",
       "\n",
       "    .dataframe thead th {\n",
       "        text-align: right;\n",
       "    }\n",
       "</style>\n",
       "<table border=\"1\" class=\"dataframe\">\n",
       "  <thead>\n",
       "    <tr style=\"text-align: right;\">\n",
       "      <th></th>\n",
       "      <th>Year</th>\n",
       "      <th>Developed</th>\n",
       "      <th>Life expectancy</th>\n",
       "      <th>infant deaths</th>\n",
       "      <th>Hepatitis B</th>\n",
       "      <th>Measles</th>\n",
       "      <th>BMI</th>\n",
       "      <th>under-five deaths</th>\n",
       "      <th>Polio</th>\n",
       "      <th>Diphtheria</th>\n",
       "      <th>HIV/AIDS</th>\n",
       "      <th>GDP</th>\n",
       "      <th>Population</th>\n",
       "    </tr>\n",
       "  </thead>\n",
       "  <tbody>\n",
       "    <tr>\n",
       "      <th>count</th>\n",
       "      <td>130.0</td>\n",
       "      <td>130.000000</td>\n",
       "      <td>130.000000</td>\n",
       "      <td>130.000000</td>\n",
       "      <td>130.000000</td>\n",
       "      <td>130.000000</td>\n",
       "      <td>130.000000</td>\n",
       "      <td>130.000000</td>\n",
       "      <td>130.000000</td>\n",
       "      <td>130.000000</td>\n",
       "      <td>130.000000</td>\n",
       "      <td>130.000000</td>\n",
       "      <td>1.300000e+02</td>\n",
       "    </tr>\n",
       "    <tr>\n",
       "      <th>mean</th>\n",
       "      <td>2015.0</td>\n",
       "      <td>0.146154</td>\n",
       "      <td>70.741538</td>\n",
       "      <td>27.723077</td>\n",
       "      <td>80.653846</td>\n",
       "      <td>1773.315385</td>\n",
       "      <td>40.533077</td>\n",
       "      <td>36.761538</td>\n",
       "      <td>81.123077</td>\n",
       "      <td>82.846154</td>\n",
       "      <td>0.785385</td>\n",
       "      <td>5997.928670</td>\n",
       "      <td>1.163121e+07</td>\n",
       "    </tr>\n",
       "    <tr>\n",
       "      <th>std</th>\n",
       "      <td>0.0</td>\n",
       "      <td>0.354627</td>\n",
       "      <td>7.997381</td>\n",
       "      <td>96.426702</td>\n",
       "      <td>24.992933</td>\n",
       "      <td>9130.704172</td>\n",
       "      <td>21.196345</td>\n",
       "      <td>123.951904</td>\n",
       "      <td>25.435133</td>\n",
       "      <td>23.289370</td>\n",
       "      <td>1.520206</td>\n",
       "      <td>10101.952401</td>\n",
       "      <td>3.017667e+07</td>\n",
       "    </tr>\n",
       "    <tr>\n",
       "      <th>min</th>\n",
       "      <td>2015.0</td>\n",
       "      <td>0.000000</td>\n",
       "      <td>51.000000</td>\n",
       "      <td>0.000000</td>\n",
       "      <td>6.000000</td>\n",
       "      <td>0.000000</td>\n",
       "      <td>2.500000</td>\n",
       "      <td>0.000000</td>\n",
       "      <td>6.000000</td>\n",
       "      <td>6.000000</td>\n",
       "      <td>0.100000</td>\n",
       "      <td>33.681223</td>\n",
       "      <td>2.966000e+03</td>\n",
       "    </tr>\n",
       "    <tr>\n",
       "      <th>25%</th>\n",
       "      <td>2015.0</td>\n",
       "      <td>0.000000</td>\n",
       "      <td>65.725000</td>\n",
       "      <td>0.000000</td>\n",
       "      <td>77.250000</td>\n",
       "      <td>0.000000</td>\n",
       "      <td>23.325000</td>\n",
       "      <td>1.000000</td>\n",
       "      <td>78.250000</td>\n",
       "      <td>78.000000</td>\n",
       "      <td>0.100000</td>\n",
       "      <td>702.333884</td>\n",
       "      <td>2.423205e+05</td>\n",
       "    </tr>\n",
       "    <tr>\n",
       "      <th>50%</th>\n",
       "      <td>2015.0</td>\n",
       "      <td>0.000000</td>\n",
       "      <td>72.150000</td>\n",
       "      <td>3.000000</td>\n",
       "      <td>91.000000</td>\n",
       "      <td>16.500000</td>\n",
       "      <td>41.300000</td>\n",
       "      <td>3.000000</td>\n",
       "      <td>91.500000</td>\n",
       "      <td>92.500000</td>\n",
       "      <td>0.100000</td>\n",
       "      <td>2231.867706</td>\n",
       "      <td>1.894576e+06</td>\n",
       "    </tr>\n",
       "    <tr>\n",
       "      <th>75%</th>\n",
       "      <td>2015.0</td>\n",
       "      <td>0.000000</td>\n",
       "      <td>76.025000</td>\n",
       "      <td>20.500000</td>\n",
       "      <td>96.000000</td>\n",
       "      <td>210.500000</td>\n",
       "      <td>61.200000</td>\n",
       "      <td>25.500000</td>\n",
       "      <td>97.000000</td>\n",
       "      <td>97.000000</td>\n",
       "      <td>0.500000</td>\n",
       "      <td>6311.780768</td>\n",
       "      <td>1.095208e+07</td>\n",
       "    </tr>\n",
       "    <tr>\n",
       "      <th>max</th>\n",
       "      <td>2015.0</td>\n",
       "      <td>1.000000</td>\n",
       "      <td>85.000000</td>\n",
       "      <td>910.000000</td>\n",
       "      <td>99.000000</td>\n",
       "      <td>90387.000000</td>\n",
       "      <td>77.600000</td>\n",
       "      <td>1100.000000</td>\n",
       "      <td>99.000000</td>\n",
       "      <td>99.000000</td>\n",
       "      <td>9.300000</td>\n",
       "      <td>56554.387600</td>\n",
       "      <td>2.581621e+08</td>\n",
       "    </tr>\n",
       "  </tbody>\n",
       "</table>\n",
       "</div>"
      ],
      "text/plain": [
       "         Year   Developed  Life expectancy   infant deaths  Hepatitis B  \\\n",
       "count   130.0  130.000000        130.000000     130.000000   130.000000   \n",
       "mean   2015.0    0.146154         70.741538      27.723077    80.653846   \n",
       "std       0.0    0.354627          7.997381      96.426702    24.992933   \n",
       "min    2015.0    0.000000         51.000000       0.000000     6.000000   \n",
       "25%    2015.0    0.000000         65.725000       0.000000    77.250000   \n",
       "50%    2015.0    0.000000         72.150000       3.000000    91.000000   \n",
       "75%    2015.0    0.000000         76.025000      20.500000    96.000000   \n",
       "max    2015.0    1.000000         85.000000     910.000000    99.000000   \n",
       "\n",
       "           Measles          BMI  under-five deaths        Polio  Diphtheria   \\\n",
       "count    130.000000  130.000000          130.000000  130.000000   130.000000   \n",
       "mean    1773.315385   40.533077           36.761538   81.123077    82.846154   \n",
       "std     9130.704172   21.196345          123.951904   25.435133    23.289370   \n",
       "min        0.000000    2.500000            0.000000    6.000000     6.000000   \n",
       "25%        0.000000   23.325000            1.000000   78.250000    78.000000   \n",
       "50%       16.500000   41.300000            3.000000   91.500000    92.500000   \n",
       "75%      210.500000   61.200000           25.500000   97.000000    97.000000   \n",
       "max    90387.000000   77.600000         1100.000000   99.000000    99.000000   \n",
       "\n",
       "         HIV/AIDS           GDP    Population  \n",
       "count  130.000000    130.000000  1.300000e+02  \n",
       "mean     0.785385   5997.928670  1.163121e+07  \n",
       "std      1.520206  10101.952401  3.017667e+07  \n",
       "min      0.100000     33.681223  2.966000e+03  \n",
       "25%      0.100000    702.333884  2.423205e+05  \n",
       "50%      0.100000   2231.867706  1.894576e+06  \n",
       "75%      0.500000   6311.780768  1.095208e+07  \n",
       "max      9.300000  56554.387600  2.581621e+08  "
      ]
     },
     "execution_count": 73,
     "metadata": {},
     "output_type": "execute_result"
    }
   ],
   "source": [
    "data.describe()"
   ]
  },
  {
   "cell_type": "code",
   "execution_count": 110,
   "id": "b1c5e7f8",
   "metadata": {},
   "outputs": [],
   "source": [
    "predictors = ['Measles ','Developed','infant deaths','Hepatitis B',' BMI','Polio','Diphtheria ','under-five deaths ',' HIV/AIDS','GDP','Population']\n",
    "outcome = ['Life expectancy ']"
   ]
  },
  {
   "cell_type": "code",
   "execution_count": 112,
   "id": "33d07e91",
   "metadata": {},
   "outputs": [
    {
     "data": {
      "text/html": [
       "<div>\n",
       "<style scoped>\n",
       "    .dataframe tbody tr th:only-of-type {\n",
       "        vertical-align: middle;\n",
       "    }\n",
       "\n",
       "    .dataframe tbody tr th {\n",
       "        vertical-align: top;\n",
       "    }\n",
       "\n",
       "    .dataframe thead th {\n",
       "        text-align: right;\n",
       "    }\n",
       "</style>\n",
       "<table border=\"1\" class=\"dataframe\">\n",
       "  <thead>\n",
       "    <tr style=\"text-align: right;\">\n",
       "      <th></th>\n",
       "      <th>Measles</th>\n",
       "      <th>Developed</th>\n",
       "      <th>infant deaths</th>\n",
       "      <th>Hepatitis B</th>\n",
       "      <th>BMI</th>\n",
       "      <th>Polio</th>\n",
       "      <th>Diphtheria</th>\n",
       "      <th>under-five deaths</th>\n",
       "      <th>HIV/AIDS</th>\n",
       "      <th>GDP</th>\n",
       "      <th>Population</th>\n",
       "    </tr>\n",
       "  </thead>\n",
       "  <tbody>\n",
       "    <tr>\n",
       "      <th>0</th>\n",
       "      <td>1154</td>\n",
       "      <td>0</td>\n",
       "      <td>62</td>\n",
       "      <td>65</td>\n",
       "      <td>19.1</td>\n",
       "      <td>6</td>\n",
       "      <td>65</td>\n",
       "      <td>83</td>\n",
       "      <td>0.1</td>\n",
       "      <td>584.259210</td>\n",
       "      <td>33736494.0</td>\n",
       "    </tr>\n",
       "    <tr>\n",
       "      <th>1</th>\n",
       "      <td>0</td>\n",
       "      <td>0</td>\n",
       "      <td>0</td>\n",
       "      <td>99</td>\n",
       "      <td>58.0</td>\n",
       "      <td>99</td>\n",
       "      <td>99</td>\n",
       "      <td>0</td>\n",
       "      <td>0.1</td>\n",
       "      <td>3954.227830</td>\n",
       "      <td>28873.0</td>\n",
       "    </tr>\n",
       "    <tr>\n",
       "      <th>2</th>\n",
       "      <td>63</td>\n",
       "      <td>0</td>\n",
       "      <td>21</td>\n",
       "      <td>95</td>\n",
       "      <td>59.5</td>\n",
       "      <td>95</td>\n",
       "      <td>95</td>\n",
       "      <td>24</td>\n",
       "      <td>0.1</td>\n",
       "      <td>4132.762920</td>\n",
       "      <td>39871528.0</td>\n",
       "    </tr>\n",
       "    <tr>\n",
       "      <th>3</th>\n",
       "      <td>118</td>\n",
       "      <td>0</td>\n",
       "      <td>66</td>\n",
       "      <td>64</td>\n",
       "      <td>23.3</td>\n",
       "      <td>7</td>\n",
       "      <td>64</td>\n",
       "      <td>98</td>\n",
       "      <td>1.9</td>\n",
       "      <td>3695.793748</td>\n",
       "      <td>2785935.0</td>\n",
       "    </tr>\n",
       "    <tr>\n",
       "      <th>4</th>\n",
       "      <td>0</td>\n",
       "      <td>0</td>\n",
       "      <td>8</td>\n",
       "      <td>94</td>\n",
       "      <td>62.8</td>\n",
       "      <td>93</td>\n",
       "      <td>94</td>\n",
       "      <td>9</td>\n",
       "      <td>0.1</td>\n",
       "      <td>13467.123600</td>\n",
       "      <td>43417765.0</td>\n",
       "    </tr>\n",
       "    <tr>\n",
       "      <th>...</th>\n",
       "      <td>...</td>\n",
       "      <td>...</td>\n",
       "      <td>...</td>\n",
       "      <td>...</td>\n",
       "      <td>...</td>\n",
       "      <td>...</td>\n",
       "      <td>...</td>\n",
       "      <td>...</td>\n",
       "      <td>...</td>\n",
       "      <td>...</td>\n",
       "      <td>...</td>\n",
       "    </tr>\n",
       "    <tr>\n",
       "      <th>125</th>\n",
       "      <td>0</td>\n",
       "      <td>0</td>\n",
       "      <td>0</td>\n",
       "      <td>95</td>\n",
       "      <td>64.0</td>\n",
       "      <td>95</td>\n",
       "      <td>95</td>\n",
       "      <td>0</td>\n",
       "      <td>0.1</td>\n",
       "      <td>15524.842470</td>\n",
       "      <td>3431552.0</td>\n",
       "    </tr>\n",
       "    <tr>\n",
       "      <th>126</th>\n",
       "      <td>22</td>\n",
       "      <td>0</td>\n",
       "      <td>15</td>\n",
       "      <td>99</td>\n",
       "      <td>44.7</td>\n",
       "      <td>99</td>\n",
       "      <td>99</td>\n",
       "      <td>17</td>\n",
       "      <td>0.1</td>\n",
       "      <td>2137.576852</td>\n",
       "      <td>312989.0</td>\n",
       "    </tr>\n",
       "    <tr>\n",
       "      <th>127</th>\n",
       "      <td>39</td>\n",
       "      <td>0</td>\n",
       "      <td>0</td>\n",
       "      <td>64</td>\n",
       "      <td>53.3</td>\n",
       "      <td>65</td>\n",
       "      <td>64</td>\n",
       "      <td>0</td>\n",
       "      <td>0.1</td>\n",
       "      <td>285.834140</td>\n",
       "      <td>26463.0</td>\n",
       "    </tr>\n",
       "    <tr>\n",
       "      <th>128</th>\n",
       "      <td>9</td>\n",
       "      <td>0</td>\n",
       "      <td>27</td>\n",
       "      <td>9</td>\n",
       "      <td>23.4</td>\n",
       "      <td>9</td>\n",
       "      <td>9</td>\n",
       "      <td>40</td>\n",
       "      <td>4.1</td>\n",
       "      <td>1313.889646</td>\n",
       "      <td>161587.0</td>\n",
       "    </tr>\n",
       "    <tr>\n",
       "      <th>129</th>\n",
       "      <td>0</td>\n",
       "      <td>0</td>\n",
       "      <td>22</td>\n",
       "      <td>87</td>\n",
       "      <td>31.8</td>\n",
       "      <td>88</td>\n",
       "      <td>87</td>\n",
       "      <td>32</td>\n",
       "      <td>6.2</td>\n",
       "      <td>118.693830</td>\n",
       "      <td>15777451.0</td>\n",
       "    </tr>\n",
       "  </tbody>\n",
       "</table>\n",
       "<p>130 rows × 11 columns</p>\n",
       "</div>"
      ],
      "text/plain": [
       "     Measles   Developed  infant deaths  Hepatitis B   BMI  Polio  \\\n",
       "0        1154          0             62           65  19.1      6   \n",
       "1           0          0              0           99  58.0     99   \n",
       "2          63          0             21           95  59.5     95   \n",
       "3         118          0             66           64  23.3      7   \n",
       "4           0          0              8           94  62.8     93   \n",
       "..        ...        ...            ...          ...   ...    ...   \n",
       "125         0          0              0           95  64.0     95   \n",
       "126        22          0             15           99  44.7     99   \n",
       "127        39          0              0           64  53.3     65   \n",
       "128         9          0             27            9  23.4      9   \n",
       "129         0          0             22           87  31.8     88   \n",
       "\n",
       "     Diphtheria   under-five deaths    HIV/AIDS           GDP  Population  \n",
       "0             65                  83        0.1    584.259210  33736494.0  \n",
       "1             99                   0        0.1   3954.227830     28873.0  \n",
       "2             95                  24        0.1   4132.762920  39871528.0  \n",
       "3             64                  98        1.9   3695.793748   2785935.0  \n",
       "4             94                   9        0.1  13467.123600  43417765.0  \n",
       "..           ...                 ...        ...           ...         ...  \n",
       "125           95                   0        0.1  15524.842470   3431552.0  \n",
       "126           99                  17        0.1   2137.576852    312989.0  \n",
       "127           64                   0        0.1    285.834140     26463.0  \n",
       "128            9                  40        4.1   1313.889646    161587.0  \n",
       "129           87                  32        6.2    118.693830  15777451.0  \n",
       "\n",
       "[130 rows x 11 columns]"
      ]
     },
     "execution_count": 112,
     "metadata": {},
     "output_type": "execute_result"
    }
   ],
   "source": [
    "x = data[predictors]\n",
    "x"
   ]
  },
  {
   "cell_type": "code",
   "execution_count": 113,
   "id": "569e3503",
   "metadata": {},
   "outputs": [
    {
     "data": {
      "text/html": [
       "<div>\n",
       "<style scoped>\n",
       "    .dataframe tbody tr th:only-of-type {\n",
       "        vertical-align: middle;\n",
       "    }\n",
       "\n",
       "    .dataframe tbody tr th {\n",
       "        vertical-align: top;\n",
       "    }\n",
       "\n",
       "    .dataframe thead th {\n",
       "        text-align: right;\n",
       "    }\n",
       "</style>\n",
       "<table border=\"1\" class=\"dataframe\">\n",
       "  <thead>\n",
       "    <tr style=\"text-align: right;\">\n",
       "      <th></th>\n",
       "      <th>Life expectancy</th>\n",
       "    </tr>\n",
       "  </thead>\n",
       "  <tbody>\n",
       "    <tr>\n",
       "      <th>0</th>\n",
       "      <td>65.0</td>\n",
       "    </tr>\n",
       "    <tr>\n",
       "      <th>1</th>\n",
       "      <td>77.8</td>\n",
       "    </tr>\n",
       "    <tr>\n",
       "      <th>2</th>\n",
       "      <td>75.6</td>\n",
       "    </tr>\n",
       "    <tr>\n",
       "      <th>3</th>\n",
       "      <td>52.4</td>\n",
       "    </tr>\n",
       "    <tr>\n",
       "      <th>4</th>\n",
       "      <td>76.3</td>\n",
       "    </tr>\n",
       "    <tr>\n",
       "      <th>...</th>\n",
       "      <td>...</td>\n",
       "    </tr>\n",
       "    <tr>\n",
       "      <th>125</th>\n",
       "      <td>77.0</td>\n",
       "    </tr>\n",
       "    <tr>\n",
       "      <th>126</th>\n",
       "      <td>69.4</td>\n",
       "    </tr>\n",
       "    <tr>\n",
       "      <th>127</th>\n",
       "      <td>72.0</td>\n",
       "    </tr>\n",
       "    <tr>\n",
       "      <th>128</th>\n",
       "      <td>61.8</td>\n",
       "    </tr>\n",
       "    <tr>\n",
       "      <th>129</th>\n",
       "      <td>67.0</td>\n",
       "    </tr>\n",
       "  </tbody>\n",
       "</table>\n",
       "<p>130 rows × 1 columns</p>\n",
       "</div>"
      ],
      "text/plain": [
       "     Life expectancy \n",
       "0                65.0\n",
       "1                77.8\n",
       "2                75.6\n",
       "3                52.4\n",
       "4                76.3\n",
       "..                ...\n",
       "125              77.0\n",
       "126              69.4\n",
       "127              72.0\n",
       "128              61.8\n",
       "129              67.0\n",
       "\n",
       "[130 rows x 1 columns]"
      ]
     },
     "execution_count": 113,
     "metadata": {},
     "output_type": "execute_result"
    }
   ],
   "source": [
    "y = data[outcome]\n",
    "y"
   ]
  },
  {
   "cell_type": "code",
   "execution_count": 114,
   "id": "7575aace",
   "metadata": {},
   "outputs": [],
   "source": [
    "from sklearn.model_selection import train_test_split\n",
    "import statsmodels.formula.api as sm"
   ]
  },
  {
   "cell_type": "code",
   "execution_count": 115,
   "id": "3bddcc5d",
   "metadata": {},
   "outputs": [],
   "source": [
    "from dmba import backward_elimination, forward_selection, stepwise_selection\n",
    "from dmba import adjusted_r2_score, AIC_score, BIC_score"
   ]
  },
  {
   "cell_type": "code",
   "execution_count": 116,
   "id": "5f4d3825",
   "metadata": {},
   "outputs": [],
   "source": [
    "from dmba import regressionSummary, exhaustive_search"
   ]
  },
  {
   "cell_type": "code",
   "execution_count": 117,
   "id": "0f8bba26",
   "metadata": {},
   "outputs": [],
   "source": [
    "train_x, test_x, train_y, test_y = train_test_split(x, y, test_size=0.2, random_state=1)"
   ]
  },
  {
   "cell_type": "code",
   "execution_count": 118,
   "id": "ea49d103",
   "metadata": {},
   "outputs": [],
   "source": [
    "from sklearn.linear_model import LinearRegression, Lasso, Ridge, LassoCV, BayesianRidge\n",
    "import matplotlib.pylab as plt"
   ]
  },
  {
   "cell_type": "code",
   "execution_count": 119,
   "id": "c60a10c0",
   "metadata": {},
   "outputs": [
    {
     "data": {
      "text/plain": [
       "LinearRegression()"
      ]
     },
     "execution_count": 119,
     "metadata": {},
     "output_type": "execute_result"
    }
   ],
   "source": [
    "data_lm = LinearRegression()\n",
    "data_lm.fit(train_x, train_y)"
   ]
  },
  {
   "cell_type": "code",
   "execution_count": 120,
   "id": "f6f01a42",
   "metadata": {},
   "outputs": [
    {
     "name": "stdout",
     "output_type": "stream",
     "text": [
      "intercept  [59.78801656]\n",
      "                                           Predictor  \\\n",
      "0  Index(['Measles ', 'Developed', 'infant deaths...   \n",
      "\n",
      "                                         coefficient  \n",
      "0  [[5.186542950058189e-05, 3.5468871573306813, 0...  \n"
     ]
    }
   ],
   "source": [
    "print('intercept ', data_lm.intercept_)\n",
    "print(pd.DataFrame({'Predictor': [x.columns], 'coefficient': [data_lm.coef_]}))"
   ]
  },
  {
   "cell_type": "code",
   "execution_count": 121,
   "id": "90330efd",
   "metadata": {},
   "outputs": [
    {
     "data": {
      "text/plain": [
       "array([[ 5.18654295e-05,  3.54688716e+00,  1.57380534e-01,\n",
       "        -1.61582609e-02,  1.13323907e-01,  5.82848672e-02,\n",
       "         3.47014437e-02, -1.30811969e-01, -1.88533296e+00,\n",
       "         9.72095611e-05,  6.37775375e-08]])"
      ]
     },
     "execution_count": 121,
     "metadata": {},
     "output_type": "execute_result"
    }
   ],
   "source": [
    "data_lm.coef_"
   ]
  },
  {
   "cell_type": "code",
   "execution_count": 122,
   "id": "abd2cde6",
   "metadata": {},
   "outputs": [
    {
     "name": "stdout",
     "output_type": "stream",
     "text": [
      "adjusted r2 :  0.725858103711441\n",
      "AIC :  598.2575633715078\n",
      "BIC :  606.1907360689319\n"
     ]
    }
   ],
   "source": [
    "pred_y = data_lm.predict(train_x)\n",
    "print('adjusted r2 : ', adjusted_r2_score(train_y, pred_y, data_lm))\n",
    "print('AIC : ', AIC_score(train_y, pred_y, data_lm))\n",
    "print('BIC : ', BIC_score(train_y, pred_y, data_lm))"
   ]
  },
  {
   "cell_type": "code",
   "execution_count": 123,
   "id": "5987221e",
   "metadata": {},
   "outputs": [
    {
     "name": "stdout",
     "output_type": "stream",
     "text": [
      "\n",
      "Regression statistics\n",
      "\n",
      "                      Mean Error (ME) : 0.2575\n",
      "       Root Mean Squared Error (RMSE) : 5.6610\n",
      "            Mean Absolute Error (MAE) : 4.2928\n",
      "          Mean Percentage Error (MPE) : 0.0573\n",
      "Mean Absolute Percentage Error (MAPE) : 6.0695\n"
     ]
    }
   ],
   "source": [
    "data_lm_pred = data_lm.predict(test_x)\n",
    "# Compute common accuracy measures\n",
    "regressionSummary(test_y, data_lm_pred)"
   ]
  },
  {
   "cell_type": "code",
   "execution_count": 124,
   "id": "9d4ec17d",
   "metadata": {},
   "outputs": [
    {
     "data": {
      "image/png": "[encoded data removed]",
      "text/plain": [
       "<Figure size 1080x720 with 1 Axes>"
      ]
     },
     "metadata": {
      "needs_background": "light"
     },
     "output_type": "display_data"
    }
   ],
   "source": [
    "Predicted = data_lm_pred\n",
    "Actual=test_y\n",
    "plt.figure(figsize=(15,10))\n",
    "plt.scatter(Actual,Predicted)\n",
    "plt.xlabel('Actual')\n",
    "plt.ylabel('Predicted')\n",
    "plt.title('Actual v/s Predicted')\n",
    "plt.show()"
   ]
  },
  {
   "cell_type": "code",
   "execution_count": 125,
   "id": "1ca1b66d",
   "metadata": {},
   "outputs": [
    {
     "name": "stdout",
     "output_type": "stream",
     "text": [
      "     n     r2adj         AIC    BMI   HIV/AIDS  Developed  Diphtheria     GDP  Hepatitis B  \\\n",
      "0    1  0.360631  686.328514  False       True      False        False  False        False   \n",
      "1    2  0.558313  647.860937   True       True      False        False  False        False   \n",
      "2    3  0.628943  629.739413   True       True      False        False  False        False   \n",
      "3    4  0.678094  614.961449   True       True       True        False  False        False   \n",
      "4    5  0.695488  609.184203   True       True       True        False   True        False   \n",
      "5    6  0.704565  606.037069   True       True       True        False   True        False   \n",
      "6    7  0.711870  603.433204   True       True       True        False   True        False   \n",
      "7    8  0.722623  599.477800   True       True       True        False   True        False   \n",
      "8    9  0.724459  598.787013   True       True       True         True   True        False   \n",
      "9   10  0.725278  598.477339   True       True       True         True   True        False   \n",
      "10  11  0.725858  598.257563   True       True       True         True   True         True   \n",
      "\n",
      "    Measles   Polio  Population  infant deaths  under-five deaths   \n",
      "0      False  False       False          False               False  \n",
      "1      False  False       False          False               False  \n",
      "2      False   True       False          False               False  \n",
      "3      False   True       False          False               False  \n",
      "4      False   True       False          False               False  \n",
      "5      False   True       False          False                True  \n",
      "6      False   True       False           True                True  \n",
      "7      False   True        True           True                True  \n",
      "8      False   True        True           True                True  \n",
      "9       True   True        True           True                True  \n",
      "10      True   True        True           True                True  \n"
     ]
    }
   ],
   "source": [
    "def train_model(variables):\n",
    "    model = LinearRegression()\n",
    "    model.fit(train_x[variables], train_y)\n",
    "    return model\n",
    "\n",
    "def score_model(model, variables):\n",
    "    pred_y = model.predict(train_x[variables])\n",
    "    # we negate as score is optimized to be as low as possible\n",
    "    return -adjusted_r2_score(train_y, pred_y, model)\n",
    "\n",
    "allVariables = train_x.columns\n",
    "results = exhaustive_search(allVariables, train_model, score_model)\n",
    "\n",
    "data = []\n",
    "for result in results:\n",
    "    model = result['model']\n",
    "    variables = result['variables']\n",
    "    AIC = AIC_score(train_y, model.predict(train_x[variables]), model)\n",
    "    d = {'n': result['n'], 'r2adj': -result['score'], 'AIC': AIC}\n",
    "    d.update({var: var in result['variables'] for var in allVariables})\n",
    "    data.append(d)\n",
    "pd.set_option('display.width', 100)\n",
    "print(pd.DataFrame(data, columns=('n', 'r2adj', 'AIC') + tuple(sorted(allVariables))))\n",
    "pd.reset_option('display.width')"
   ]
  },
  {
   "cell_type": "code",
   "execution_count": 126,
   "id": "49022980",
   "metadata": {},
   "outputs": [
    {
     "name": "stdout",
     "output_type": "stream",
     "text": [
      "Variables: Measles , Developed, infant deaths, Hepatitis B,  BMI, Polio, Diphtheria , under-five deaths ,  HIV/AIDS, GDP, Population\n",
      "Start: score=598.26\n",
      "Step: score=598.26, remove None\n",
      "['Measles ', 'Developed', 'infant deaths', 'Hepatitis B', ' BMI', 'Polio', 'Diphtheria ', 'under-five deaths ', ' HIV/AIDS', 'GDP', 'Population']\n"
     ]
    }
   ],
   "source": [
    "def train_model(variables):\n",
    "    model = LinearRegression()\n",
    "    model.fit(train_x[variables], train_y)\n",
    "    return model\n",
    "\n",
    "def score_model(model, variables):\n",
    "    return AIC_score(train_y, model.predict(train_x[variables]), model)\n",
    "\n",
    "best_model, best_variables = backward_elimination(train_x.columns, train_model, score_model, verbose=True)\n",
    "\n",
    "print(best_variables)"
   ]
  },
  {
   "cell_type": "code",
   "execution_count": 127,
   "id": "f27773d1",
   "metadata": {},
   "outputs": [
    {
     "name": "stdout",
     "output_type": "stream",
     "text": [
      "\n",
      "Regression statistics\n",
      "\n",
      "                      Mean Error (ME) : 0.2575\n",
      "       Root Mean Squared Error (RMSE) : 5.6610\n",
      "            Mean Absolute Error (MAE) : 4.2928\n",
      "          Mean Percentage Error (MPE) : 0.0573\n",
      "Mean Absolute Percentage Error (MAPE) : 6.0695\n"
     ]
    }
   ],
   "source": [
    "regressionSummary(test_y, best_model.predict(test_x[best_variables]))"
   ]
  },
  {
   "cell_type": "code",
   "execution_count": 128,
   "id": "1030af8a",
   "metadata": {},
   "outputs": [
    {
     "name": "stdout",
     "output_type": "stream",
     "text": [
      "Variables: Measles , Developed, infant deaths, Hepatitis B,  BMI, Polio, Diphtheria , under-five deaths ,  HIV/AIDS, GDP, Population\n",
      "Start: score=731.86, constant\n",
      "Step: score=686.33, add  HIV/AIDS\n",
      "Step: score=647.86, add  BMI\n",
      "Step: score=629.74, add Polio\n",
      "Step: score=614.96, add Developed\n",
      "Step: score=609.18, add GDP\n",
      "Step: score=606.04, add under-five deaths \n",
      "Step: score=603.43, add infant deaths\n",
      "Step: score=599.48, add Population\n",
      "Step: score=598.79, add Diphtheria \n",
      "Step: score=598.48, add Measles \n",
      "Step: score=598.26, add Hepatitis B\n",
      "Step: score=598.26, add None\n",
      "[' HIV/AIDS', ' BMI', 'Polio', 'Developed', 'GDP', 'under-five deaths ', 'infant deaths', 'Population', 'Diphtheria ', 'Measles ', 'Hepatitis B']\n"
     ]
    }
   ],
   "source": [
    "def train_model(variables):\n",
    "    if len(variables) == 0:\n",
    "        return None\n",
    "    model = LinearRegression()\n",
    "    model.fit(train_x[variables], train_y)\n",
    "    return model\n",
    "\n",
    "def score_model(model, variables):\n",
    "    if len(variables) == 0:\n",
    "        return AIC_score(train_y, [train_y.mean()] * len(train_y), model, df=1)\n",
    "    return AIC_score(train_y, model.predict(train_x[variables]), model)\n",
    "\n",
    "best_model, best_variables = forward_selection(train_x.columns, train_model, score_model, verbose=True)\n",
    "\n",
    "print(best_variables)"
   ]
  },
  {
   "cell_type": "code",
   "execution_count": 129,
   "id": "cfcb555d",
   "metadata": {},
   "outputs": [
    {
     "name": "stdout",
     "output_type": "stream",
     "text": [
      "Variables: Measles , Developed, infant deaths, Hepatitis B,  BMI, Polio, Diphtheria , under-five deaths ,  HIV/AIDS, GDP, Population\n",
      "Start: score=731.86, constant\n",
      "Step: score=686.33, add  HIV/AIDS\n",
      "Step: score=647.86, add  BMI\n",
      "Step: score=629.74, add Polio\n",
      "Step: score=614.96, add Developed\n",
      "Step: score=609.18, add GDP\n",
      "Step: score=606.04, add under-five deaths \n",
      "Step: score=603.43, add infant deaths\n",
      "Step: score=599.48, add Population\n",
      "Step: score=598.79, add Diphtheria \n",
      "Step: score=598.48, add Measles \n",
      "Step: score=598.26, add Hepatitis B\n",
      "Step: score=598.26, unchanged None\n",
      "[' HIV/AIDS', ' BMI', 'Polio', 'Developed', 'GDP', 'under-five deaths ', 'infant deaths', 'Population', 'Diphtheria ', 'Measles ', 'Hepatitis B']\n"
     ]
    }
   ],
   "source": [
    "best_model, best_variables = stepwise_selection(train_x.columns, train_model, score_model, verbose=True)\n",
    "\n",
    "print(best_variables)"
   ]
  },
  {
   "cell_type": "markdown",
   "id": "38dd84e7",
   "metadata": {},
   "source": [
    "# final model with best variables"
   ]
  },
  {
   "cell_type": "code",
   "execution_count": 130,
   "id": "c3a232d7",
   "metadata": {},
   "outputs": [],
   "source": [
    "data = pd.read_excel(r'C:\\Users\\Akash Sharma\\Downloads\\Life Expectancy 2015 World Data.xlsx')"
   ]
  },
  {
   "cell_type": "code",
   "execution_count": 133,
   "id": "1fa2aa1d",
   "metadata": {},
   "outputs": [],
   "source": [
    "predictors = ['Measles ','Developed','infant deaths','Hepatitis B',' BMI','Polio','Diphtheria ','under-five deaths ',' HIV/AIDS','GDP','Population']\n",
    "outcome = ['Life expectancy ']\n",
    "x = data[predictors]\n",
    "y = data[outcome]\n",
    "train_x, test_x, train_y, test_y = train_test_split(x, y, test_size=0.2, random_state=1)\n",
    "data_lm = LinearRegression()\n",
    "data_lm.fit(train_x, train_y)\n",
    "pred_y = data_lm.predict(test_x)"
   ]
  },
  {
   "cell_type": "code",
   "execution_count": 134,
   "id": "f69df6da",
   "metadata": {},
   "outputs": [
    {
     "data": {
      "text/plain": [
       "array([[65.27483244],\n",
       "       [71.42956865],\n",
       "       [73.36365577],\n",
       "       [70.24831382],\n",
       "       [72.68647293],\n",
       "       [78.73657909],\n",
       "       [67.29862185],\n",
       "       [69.38374362],\n",
       "       [72.41275579],\n",
       "       [79.75073551],\n",
       "       [67.57338925],\n",
       "       [78.31141073],\n",
       "       [63.84927172],\n",
       "       [73.3926678 ],\n",
       "       [73.33918174],\n",
       "       [60.60598618],\n",
       "       [74.93880611],\n",
       "       [77.58381975],\n",
       "       [78.03972435],\n",
       "       [48.19810087],\n",
       "       [81.96345933],\n",
       "       [73.43252209],\n",
       "       [71.95878107],\n",
       "       [71.55097657],\n",
       "       [54.53144525],\n",
       "       [66.9489464 ]])"
      ]
     },
     "execution_count": 134,
     "metadata": {},
     "output_type": "execute_result"
    }
   ],
   "source": [
    "#predicted value\n",
    "pred_y"
   ]
  },
  {
   "cell_type": "code",
   "execution_count": 135,
   "id": "0d9e880b",
   "metadata": {},
   "outputs": [
    {
     "data": {
      "text/plain": [
       "array([[62.9],\n",
       "       [73.2],\n",
       "       [73.9],\n",
       "       [71.3],\n",
       "       [74.6],\n",
       "       [73.6],\n",
       "       [74. ],\n",
       "       [62.4],\n",
       "       [68.3],\n",
       "       [75.8],\n",
       "       [79.6],\n",
       "       [82.4],\n",
       "       [63.1],\n",
       "       [74.8],\n",
       "       [71.6],\n",
       "       [62.3],\n",
       "       [75. ],\n",
       "       [82.5],\n",
       "       [76.3],\n",
       "       [53.7],\n",
       "       [69.1],\n",
       "       [74.4],\n",
       "       [66.2],\n",
       "       [85. ],\n",
       "       [57.6],\n",
       "       [59.9]])"
      ]
     },
     "execution_count": 135,
     "metadata": {},
     "output_type": "execute_result"
    }
   ],
   "source": [
    "#Actual values\n",
    "test_y.values"
   ]
  },
  {
   "cell_type": "code",
   "execution_count": 136,
   "id": "333e717a",
   "metadata": {},
   "outputs": [
    {
     "data": {
      "text/plain": [
       "0.4730234692318128"
      ]
     },
     "execution_count": 136,
     "metadata": {},
     "output_type": "execute_result"
    }
   ],
   "source": [
    "from sklearn.metrics import r2_score\n",
    "r2_score(test_y.values,pred_y)"
   ]
  },
  {
   "cell_type": "code",
   "execution_count": 137,
   "id": "0e00f9f6",
   "metadata": {},
   "outputs": [
    {
     "data": {
      "image/png": "[encoded data removed]",
      "text/plain": [
       "<Figure size 1080x720 with 1 Axes>"
      ]
     },
     "metadata": {
      "needs_background": "light"
     },
     "output_type": "display_data"
    }
   ],
   "source": [
    "plt.figure(figsize=(15,10))\n",
    "plt.scatter(test_y.values,pred_y)\n",
    "plt.xlabel('Actual')\n",
    "plt.ylabel('Predicted')\n",
    "plt.show()"
   ]
  },
  {
   "cell_type": "code",
   "execution_count": 138,
   "id": "eac08856",
   "metadata": {},
   "outputs": [],
   "source": [
    "#checking prediction for new variable"
   ]
  },
  {
   "cell_type": "code",
   "execution_count": 140,
   "id": "16274b45",
   "metadata": {},
   "outputs": [
    {
     "data": {
      "text/html": [
       "<div>\n",
       "<style scoped>\n",
       "    .dataframe tbody tr th:only-of-type {\n",
       "        vertical-align: middle;\n",
       "    }\n",
       "\n",
       "    .dataframe tbody tr th {\n",
       "        vertical-align: top;\n",
       "    }\n",
       "\n",
       "    .dataframe thead th {\n",
       "        text-align: right;\n",
       "    }\n",
       "</style>\n",
       "<table border=\"1\" class=\"dataframe\">\n",
       "  <thead>\n",
       "    <tr style=\"text-align: right;\">\n",
       "      <th></th>\n",
       "      <th>Measles</th>\n",
       "      <th>Developed</th>\n",
       "      <th>infant deaths</th>\n",
       "      <th>Hepatitis B</th>\n",
       "      <th>BMI</th>\n",
       "      <th>Polio</th>\n",
       "      <th>Diphtheria</th>\n",
       "      <th>under-five deaths</th>\n",
       "      <th>HIV/AIDS</th>\n",
       "      <th>GDP</th>\n",
       "      <th>Population</th>\n",
       "    </tr>\n",
       "  </thead>\n",
       "  <tbody>\n",
       "    <tr>\n",
       "      <th>0</th>\n",
       "      <td>0</td>\n",
       "      <td>0</td>\n",
       "      <td>20</td>\n",
       "      <td>90</td>\n",
       "      <td>32</td>\n",
       "      <td>80</td>\n",
       "      <td>90</td>\n",
       "      <td>35</td>\n",
       "      <td>6.2</td>\n",
       "      <td>120.98</td>\n",
       "      <td>1768650</td>\n",
       "    </tr>\n",
       "  </tbody>\n",
       "</table>\n",
       "</div>"
      ],
      "text/plain": [
       "   Measles   Developed  infant deaths  Hepatitis B   BMI  Polio  Diphtheria   \\\n",
       "0         0          0             20           90    32     80           90   \n",
       "\n",
       "   under-five deaths    HIV/AIDS     GDP  Population  \n",
       "0                  35        6.2  120.98     1768650  "
      ]
     },
     "execution_count": 140,
     "metadata": {},
     "output_type": "execute_result"
    }
   ],
   "source": [
    "new_data = pd.DataFrame([{'Measles ':0,'Developed':0,'infant deaths':20,'Hepatitis B':90,' BMI':32,'Polio':80,'Diphtheria ':90,'under-five deaths ':35,' HIV/AIDS':6.2,'GDP':120.98,'Population':1768650}])\n",
    "new_data"
   ]
  },
  {
   "cell_type": "code",
   "execution_count": 143,
   "id": "d91174ae",
   "metadata": {},
   "outputs": [
    {
     "name": "stdout",
     "output_type": "stream",
     "text": [
      "Life expectancy: [[56.75074539]]\n"
     ]
    }
   ],
   "source": [
    "print('Life expectancy:',data_lm.predict(new_data))"
   ]
  },
  {
   "cell_type": "code",
   "execution_count": null,
   "id": "74a32185",
   "metadata": {},
   "outputs": [],
   "source": []
  }
 ],
 "metadata": {
  "kernelspec": {
   "display_name": "Python 3",
   "language": "python",
   "name": "python3"
  },
  "language_info": {
   "codemirror_mode": {
    "name": "ipython",
    "version": 3
   },
   "file_extension": ".py",
   "mimetype": "text/x-python",
   "name": "python",
   "nbconvert_exporter": "python",
   "pygments_lexer": "ipython3",
   "version": "3.8.8"
  }
 },
 "nbformat": 4,
 "nbformat_minor": 5
}
